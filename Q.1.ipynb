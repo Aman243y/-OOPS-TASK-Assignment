{
 "cells": [
  {
   "cell_type": "code",
   "execution_count": 4,
   "id": "ff3c3f67-94fe-4890-8d8c-de8c714f7de3",
   "metadata": {},
   "outputs": [],
   "source": [
    "class Vehicle:\n",
    "    def __init__(self, name_of_vehicle, max_speed, average_of_vehicle):\n",
    "        self.name_of_vehicle = name_of_vehicle\n",
    "        self.max_speed = max_speed\n",
    "        self.average_of_vehicle = average_of_vehicle"
   ]
  },
  {
   "cell_type": "code",
   "execution_count": 5,
   "id": "309cd375-4cd4-41a5-a329-3daaeaafa428",
   "metadata": {},
   "outputs": [
    {
     "name": "stdout",
     "output_type": "stream",
     "text": [
      "Car\n",
      "200\n",
      "30\n"
     ]
    }
   ],
   "source": [
    "vehicle1 = Vehicle(\"Car\", 200, 30)\n",
    "print(vehicle1.name_of_vehicle)  \n",
    "print(vehicle1.max_speed)        \n",
    "print(vehicle1.average_of_vehicle)  "
   ]
  },
  {
   "cell_type": "code",
   "execution_count": null,
   "id": "b0916268-17f7-4c04-bed7-5b13cf6c6061",
   "metadata": {},
   "outputs": [],
   "source": []
  }
 ],
 "metadata": {
  "kernelspec": {
   "display_name": "Python 3 (ipykernel)",
   "language": "python",
   "name": "python3"
  },
  "language_info": {
   "codemirror_mode": {
    "name": "ipython",
    "version": 3
   },
   "file_extension": ".py",
   "mimetype": "text/x-python",
   "name": "python",
   "nbconvert_exporter": "python",
   "pygments_lexer": "ipython3",
   "version": "3.10.8"
  }
 },
 "nbformat": 4,
 "nbformat_minor": 5
}

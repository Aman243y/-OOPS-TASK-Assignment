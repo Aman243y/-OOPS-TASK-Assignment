{
 "cells": [
  {
   "cell_type": "code",
   "execution_count": null,
   "id": "26c3f7a2-7fcd-411d-b43f-e7a496f5a610",
   "metadata": {},
   "outputs": [],
   "source": [
    "#Multiple inheritance is a feature in object-oriented programming languages where a class can inherit attributes and methods from more than one parent class. This allows for the creation of complex class hierarchies and promotes code reuse."
   ]
  },
  {
   "cell_type": "code",
   "execution_count": 2,
   "id": "501c57a9-9a98-4f85-8988-4def54d0a2f6",
   "metadata": {},
   "outputs": [],
   "source": [
    "class A:\n",
    "    def method_A(self):\n",
    "        print(\"Method A from class A\")"
   ]
  },
  {
   "cell_type": "code",
   "execution_count": 2,
   "id": "54140da9-fd19-48e0-924a-6eab9890172c",
   "metadata": {},
   "outputs": [],
   "source": [
    "class A:\n",
    "    def method_A(self):\n",
    "        print(\"Method A from class A\")"
   ]
  },
  {
   "cell_type": "code",
   "execution_count": 3,
   "id": "7d5ecad2-fe9f-419a-af06-9556ecbb1caf",
   "metadata": {},
   "outputs": [],
   "source": [
    "class B:\n",
    "    def method_B(self):\n",
    "        print(\"method B from class B\")"
   ]
  },
  {
   "cell_type": "code",
   "execution_count": 13,
   "id": "49276795-6406-4364-993c-a8ddcd444619",
   "metadata": {},
   "outputs": [],
   "source": [
    "class C(A,B):\n",
    "    def method_C(self):\n",
    "        print(\"Method C from class C\")"
   ]
  },
  {
   "cell_type": "code",
   "execution_count": 14,
   "id": "cc0c1f93-a52a-44c3-b880-da3e1c6f8137",
   "metadata": {},
   "outputs": [],
   "source": [
    "obj_C=C()\n"
   ]
  },
  {
   "cell_type": "code",
   "execution_count": 15,
   "id": "153f96bb-2e5c-4f2b-aa20-b56defbe48ab",
   "metadata": {},
   "outputs": [
    {
     "name": "stdout",
     "output_type": "stream",
     "text": [
      "Method A from class A\n"
     ]
    }
   ],
   "source": [
    "obj_C.method_A()"
   ]
  },
  {
   "cell_type": "code",
   "execution_count": 16,
   "id": "858add75-f98c-4035-969e-573d3cb4495d",
   "metadata": {},
   "outputs": [
    {
     "name": "stdout",
     "output_type": "stream",
     "text": [
      "method B from class B\n"
     ]
    }
   ],
   "source": [
    "obj_C.method_B()"
   ]
  },
  {
   "cell_type": "code",
   "execution_count": 17,
   "id": "2f9bf8b2-1c08-4bb2-965b-77600e63b53a",
   "metadata": {},
   "outputs": [
    {
     "name": "stdout",
     "output_type": "stream",
     "text": [
      "Method C from class C\n"
     ]
    }
   ],
   "source": [
    "obj_C.method_C()"
   ]
  }
 ],
 "metadata": {
  "kernelspec": {
   "display_name": "Python 3 (ipykernel)",
   "language": "python",
   "name": "python3"
  },
  "language_info": {
   "codemirror_mode": {
    "name": "ipython",
    "version": 3
   },
   "file_extension": ".py",
   "mimetype": "text/x-python",
   "name": "python",
   "nbconvert_exporter": "python",
   "pygments_lexer": "ipython3",
   "version": "3.10.8"
  }
 },
 "nbformat": 4,
 "nbformat_minor": 5
}

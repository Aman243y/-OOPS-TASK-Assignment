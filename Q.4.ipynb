{
 "cells": [
  {
   "cell_type": "code",
   "execution_count": 7,
   "id": "830e005e-12cd-4503-ab38-58ded6daa2a8",
   "metadata": {},
   "outputs": [
    {
     "name": "stdout",
     "output_type": "stream",
     "text": [
      "Value of my_attribute: None\n",
      "Value of my_attribute: Hello, world!\n"
     ]
    }
   ],
   "source": [
    "class MyClass:\n",
    "    def __init__(self):\n",
    "        self._my_attribute = None  # Private attribute prefixed with underscore\n",
    "    \n",
    "    # Getter method\n",
    "    def get_my_attribute(self):\n",
    "        return self._my_attribute\n",
    "    \n",
    "    # Setter method\n",
    "    def set_my_attribute(self, value):\n",
    "        self._my_attribute = value\n",
    "\n",
    "# Creating an object of MyClass\n",
    "obj = MyClass()\n",
    "\n",
    "# Using the getter method to access the attribute\n",
    "print(\"Value of my_attribute:\", obj.get_my_attribute())  \n",
    "\n",
    "# Using the setter method to modify the attribute\n",
    "obj.set_my_attribute(\"Hello, world!\")\n",
    "\n",
    "# Using the getter method again to access the modified attribute\n",
    "print(\"Value of my_attribute:\", obj.get_my_attribute()) \n"
   ]
  },
  {
   "cell_type": "code",
   "execution_count": null,
   "id": "7b8db2e2-eab7-4ad4-b691-5a27ff3d4d0c",
   "metadata": {},
   "outputs": [],
   "source": []
  }
 ],
 "metadata": {
  "kernelspec": {
   "display_name": "Python 3 (ipykernel)",
   "language": "python",
   "name": "python3"
  },
  "language_info": {
   "codemirror_mode": {
    "name": "ipython",
    "version": 3
   },
   "file_extension": ".py",
   "mimetype": "text/x-python",
   "name": "python",
   "nbconvert_exporter": "python",
   "pygments_lexer": "ipython3",
   "version": "3.10.8"
  }
 },
 "nbformat": 4,
 "nbformat_minor": 5
}

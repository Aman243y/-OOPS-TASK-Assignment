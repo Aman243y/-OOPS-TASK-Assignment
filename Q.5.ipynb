{
 "cells": [
  {
   "cell_type": "code",
   "execution_count": 1,
   "id": "a2a8de08-c5d5-4932-ae66-a27ba28c460e",
   "metadata": {},
   "outputs": [],
   "source": [
    "class Animal:\n",
    "    def speak(self):\n",
    "        print(\"Animal speaks\")"
   ]
  },
  {
   "cell_type": "code",
   "execution_count": 2,
   "id": "925d7ce7-76d0-4849-a185-13821f92c641",
   "metadata": {},
   "outputs": [],
   "source": [
    "class Dog(Animal):\n",
    "    # Overriding the speak method of the parent class\n",
    "    def speak(self):\n",
    "        print(\"Dog barks\")"
   ]
  },
  {
   "cell_type": "code",
   "execution_count": 3,
   "id": "03b401e4-f9a1-481a-ac1f-3e34e93aa490",
   "metadata": {},
   "outputs": [],
   "source": [
    "animal = Animal()\n",
    "dog = Dog()"
   ]
  },
  {
   "cell_type": "code",
   "execution_count": 4,
   "id": "437bb6f5-513a-421d-80ed-573743a8b8f5",
   "metadata": {},
   "outputs": [
    {
     "name": "stdout",
     "output_type": "stream",
     "text": [
      "Animal speaks\n",
      "Dog barks\n"
     ]
    }
   ],
   "source": [
    "animal.speak()  \n",
    "dog.speak() "
   ]
  },
  {
   "cell_type": "code",
   "execution_count": null,
   "id": "07239dcd-daa3-4888-af9f-f041d9250bd3",
   "metadata": {},
   "outputs": [],
   "source": []
  }
 ],
 "metadata": {
  "kernelspec": {
   "display_name": "Python 3 (ipykernel)",
   "language": "python",
   "name": "python3"
  },
  "language_info": {
   "codemirror_mode": {
    "name": "ipython",
    "version": 3
   },
   "file_extension": ".py",
   "mimetype": "text/x-python",
   "name": "python",
   "nbconvert_exporter": "python",
   "pygments_lexer": "ipython3",
   "version": "3.10.8"
  }
 },
 "nbformat": 4,
 "nbformat_minor": 5
}
